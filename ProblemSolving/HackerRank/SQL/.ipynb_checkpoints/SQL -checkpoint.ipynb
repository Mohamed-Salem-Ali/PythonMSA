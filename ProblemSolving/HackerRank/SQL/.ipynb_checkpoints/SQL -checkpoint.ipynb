{
 "cells": [
  {
   "cell_type": "markdown",
   "id": "1b7c0ddd",
   "metadata": {},
   "source": [
    "##### Use to exclude duplicate answers \n",
    "1- SQL DISTINCT\n"
   ]
  },
  {
   "cell_type": "markdown",
   "id": "2bcf174e",
   "metadata": {},
   "source": [
    "##### For Even Number\n",
    "2- WHERE ID%2=0 "
   ]
  },
  {
   "cell_type": "markdown",
   "id": "844cc457",
   "metadata": {},
   "source": [
    "#### Difference between unique city and number of cities\n",
    "3- SELECT COUNT(CITY) - COUNT(DISTINCT(CITY)) FROM STATION"
   ]
  },
  {
   "cell_type": "markdown",
   "id": "1d93fdd2",
   "metadata": {},
   "source": [
    "#### Shortest city  name\n",
    "4- SELECT CITY.LENGTH(CITY) AS LENGTH FROM STATION ORDER BY LENGTH, CITY LIMIT 1"
   ]
  },
  {
   "cell_type": "markdown",
   "id": "ce68c3fc",
   "metadata": {},
   "source": [
    "##### Longest city name\n",
    "5- SELECT CITY.LENGTH(CITY) AS LENGTH FROM STATION ORDER BY LENGTH DESC, CITY LIMIT 1"
   ]
  },
  {
   "cell_type": "markdown",
   "id": "c620cef3",
   "metadata": {},
   "source": [
    "##### Select all city names starting with vowels \n",
    "6- SELECT DISTINCT(CITY) FROM STATION WHERE LEFT(CITY,1) IN ('a','e','o','I','u')"
   ]
  },
  {
   "cell_type": "markdown",
   "id": "d4d03250",
   "metadata": {},
   "source": [
    "##### Select all city names ending with vowels\n",
    "\n",
    "7- SELECT DISTINCT(CITY) FROM STATION WHERE RIGHT(CITY,1) IN ('a','e','o','I','u')"
   ]
  },
  {
   "cell_type": "markdown",
   "id": "2e812a3b",
   "metadata": {},
   "source": [
    "##### Select all city names DOESN'T start with vowels\n",
    "8-  SELECT DISTINCT(CITY) FROM STATION WHERE LEFT(CITY,1) NOT IN ('a','e','o','I','u')"
   ]
  },
  {
   "cell_type": "markdown",
   "id": "05da905b",
   "metadata": {},
   "source": [
    "##### Query the Name of any student in STUDENTS who scored higher than  Marks. Order your output by the last three characters of each name. If two or more students both have names ending in the same last three characters (i.e.: Bobby, Robby, etc.), secondary sort them by ascending ID."
   ]
  },
  {
   "cell_type": "markdown",
   "id": "26a0ecb5",
   "metadata": {},
   "source": [
    "9- SELECT Name FROM STUDENTS WHERE Marks > 75 ORDER BY RIGHT(Name, 3), ID ASC;"
   ]
  },
  {
   "cell_type": "markdown",
   "id": "73ebec37",
   "metadata": {},
   "source": [
    "#### Write a query that prints a list of employee names (i.e.: the name attribute) from the Employee table in alphabetical order."
   ]
  },
  {
   "cell_type": "markdown",
   "id": "5f3f0114",
   "metadata": {},
   "source": [
    "10 - SELECT NAME FROM EMPLOYEE ORDER BY NAME"
   ]
  },
  {
   "cell_type": "markdown",
   "id": "566e57b7",
   "metadata": {},
   "source": [
    "#### Write a query that prints a list of employee names (i.e.: the name attribute) for employees in Employee having a salary greater than  per month who have been employees for less than  months. Sort your result by ascending employee_id."
   ]
  },
  {
   "cell_type": "markdown",
   "id": "86011f8d",
   "metadata": {},
   "source": [
    "11 - SELECT NAME FROM EMPLOYEE WHERE MONTHS < 10 AND SALARY > 2000 ORDER BY EMPLOYEE_ID ASC "
   ]
  },
  {
   "cell_type": "markdown",
   "id": "1ad79451",
   "metadata": {},
   "source": [
    "#### Write a query identifying the type of each record in the TRIANGLES table using its three side lengths. Output one of the following statements for each record in the table:\n",
    "\n",
    "#### Equilateral: It's a triangle with  sides of equal length.\n",
    "#### Isosceles: It's a triangle with  sides of equal length.\n",
    "#### Scalene: It's a triangle with  sides of differing lengths.\n",
    "#### Not A Triangle: The given values of A, B, and C don't form a triangle.\n"
   ]
  },
  {
   "cell_type": "code",
   "execution_count": null,
   "id": "7ecdb2b2",
   "metadata": {},
   "outputs": [],
   "source": [
    "12 - SELECT \n",
    "        CASE \n",
    "            WHEN A + B <= C OR A + C <= B OR B + C <= A THEN 'Not A Triangle'\n",
    "            WHEN A = B AND B = C THEN 'Equilateral'\n",
    "            WHEN A = B OR A = C OR B = C THEN 'Isosceles'\n",
    "            ELSE 'Scalene'\n",
    "        END AS TriangleType\n",
    "    FROM TRIANGLES;"
   ]
  },
  {
   "cell_type": "markdown",
   "id": "7496905d",
   "metadata": {},
   "source": [
    "#### Query an alphabetically ordered list of all names in OCCUPATIONS, immediately followed by the first letter of each profession as a parenthetical (i.e.: enclosed in parentheses). For example: AnActorName(A), ADoctorName(D), AProfessorName(P), and ASingerName(S).\n",
    "#### Query the number of ocurrences of each occupation in OCCUPATIONS. Sort the occurrences in ascending order, and output them in the following format:\n",
    "\n",
    "#### There are a total of [occupation_count] [occupation]s.\n",
    "#### where [occupation_count] is the number of occurrences of an occupation in OCCUPATIONS and [occupation] is the lowercase occupation name. If more than one Occupation has the same [occupation_count], they should be ordered alphabetically."
   ]
  },
  {
   "cell_type": "code",
   "execution_count": null,
   "id": "f7f032fc",
   "metadata": {},
   "outputs": [],
   "source": [
    "SELECT CONCAT(Name, '(', LEFT(Occupation, 1), ')') AS NameAndProfession\n",
    "FROM OCCUPATIONS\n",
    "UNION ALL\n",
    "SELECT CONCAT('There are a total of ', occupation_count, ' ', LOWER(Occupation), 's.') AS Occupation_Count\n",
    "FROM (\n",
    "    SELECT COUNT(*) AS occupation_count, LOWER(Occupation) AS Occupation\n",
    "    FROM OCCUPATIONS\n",
    "    GROUP BY Occupation\n",
    ") AS subquery \n",
    "ORDER BY NameAndProfession;"
   ]
  },
  {
   "cell_type": "markdown",
   "id": "429e4fbd",
   "metadata": {},
   "source": [
    "#### Pivot the Occupation column in OCCUPATIONS so that each Name is sorted alphabetically and displayed underneath its corresponding Occupation. The output column headers should be Doctor, Professor, Singer, and Actor, respectively.\n",
    "\n",
    "Note: Print NULL when there are no more names corresponding to an occupation.\n",
    "\n",
    "Input Format\n",
    "\n",
    "The OCCUPATIONS table is described as follows:\n",
    "\n",
    "\n",
    "\n",
    "Occupation will only contain one of the following values: Doctor, Professor, Singer or Actor.\n",
    "\n",
    "Sample Input\n",
    "\n",
    "\n",
    "\n",
    "Sample Output\n",
    "\n",
    "Jenny    Ashley     Meera  Jane\n",
    "Samantha Christeen  Priya  Julia\n",
    "NULL     Ketty      NULL   Maria\n",
    "Explanation\n",
    "\n",
    "The first column is an alphabetically ordered list of Doctor names.\n",
    "The second column is an alphabetically ordered list of Professor names.\n",
    "The third column is an alphabetically ordered list of Singer names.\n",
    "The fourth column is an alphabetically ordered list of Actor names.\n",
    "The empty cell data for columns with less than the maximum number of names per occupation (in this case, the Professor and Actor columns) are filled with NULL values."
   ]
  },
  {
   "cell_type": "code",
   "execution_count": null,
   "id": "ea3279fb",
   "metadata": {},
   "outputs": [],
   "source": [
    "SELECT \n",
    "    MAX(Doctor) AS Doctor,\n",
    "    MAX(Professor) AS Professor,\n",
    "    MAX(Singer) AS Singer,\n",
    "    MAX(Actor) AS Actor\n",
    "FROM \n",
    "    (SELECT \n",
    "        CASE WHEN Occupation = 'Doctor' THEN Name END AS Doctor,\n",
    "        CASE WHEN Occupation = 'Professor' THEN Name END AS Professor,\n",
    "        CASE WHEN Occupation = 'Singer' THEN Name END AS Singer,\n",
    "        CASE WHEN Occupation = 'Actor' THEN Name END AS Actor,\n",
    "        ROW_NUMBER() OVER (PARTITION BY Occupation ORDER BY Name) AS rn\n",
    "    FROM \n",
    "        OCCUPATIONS\n",
    "    ) AS OccupationsPivot\n",
    "GROUP BY \n",
    "    rn\n",
    "ORDER BY \n",
    "    rn;"
   ]
  },
  {
   "cell_type": "markdown",
   "id": "4ad34390",
   "metadata": {},
   "source": []
  },
  {
   "cell_type": "markdown",
   "id": "c26334d2",
   "metadata": {},
   "source": []
  },
  {
   "cell_type": "markdown",
   "id": "9e6ec909",
   "metadata": {},
   "source": []
  }
 ],
 "metadata": {
  "kernelspec": {
   "display_name": "Python 3 (ipykernel)",
   "language": "python",
   "name": "python3"
  },
  "language_info": {
   "codemirror_mode": {
    "name": "ipython",
    "version": 3
   },
   "file_extension": ".py",
   "mimetype": "text/x-python",
   "name": "python",
   "nbconvert_exporter": "python",
   "pygments_lexer": "ipython3",
   "version": "3.9.13"
  }
 },
 "nbformat": 4,
 "nbformat_minor": 5
}
