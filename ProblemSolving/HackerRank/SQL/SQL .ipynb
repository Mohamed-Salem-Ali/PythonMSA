{
 "cells": [
  {
   "cell_type": "markdown",
   "id": "1b7c0ddd",
   "metadata": {},
   "source": [
    "##### Use to exclude duplicate answers \n",
    "1- SQL DISTINCT\n"
   ]
  },
  {
   "cell_type": "markdown",
   "id": "2bcf174e",
   "metadata": {},
   "source": [
    "##### For Even Number\n",
    "2- WHERE ID%2=0 "
   ]
  },
  {
   "cell_type": "markdown",
   "id": "844cc457",
   "metadata": {},
   "source": [
    "#### Difference between unique city and number of cities\n",
    "3- SELECT COUNT(CITY) - COUNT(DISTINCT(CITY)) FROM STATION"
   ]
  },
  {
   "cell_type": "markdown",
   "id": "1d93fdd2",
   "metadata": {},
   "source": [
    "#### Shortest city  name\n",
    "4- SELECT CITY.LENGTH(CITY) AS LENGTH FROM STATION ORDER BY LENGTH, CITY LIMIT 1"
   ]
  },
  {
   "cell_type": "markdown",
   "id": "ce68c3fc",
   "metadata": {},
   "source": [
    "##### Longest city name\n",
    "5- SELECT CITY.LENGTH(CITY) AS LENGTH FROM STATION ORDER BY LENGTH DESC, CITY LIMIT 1"
   ]
  },
  {
   "cell_type": "markdown",
   "id": "c620cef3",
   "metadata": {},
   "source": [
    "##### Select all city names starting with vowels \n",
    "6- SELECT DISTINCT(CITY) FROM STATION WHERE LEFT(CITY,1) IN ('a','e','o','I','u')"
   ]
  },
  {
   "cell_type": "markdown",
   "id": "d4d03250",
   "metadata": {},
   "source": [
    "##### Select all city names ending with vowels\n",
    "\n",
    "7- SELECT DISTINCT(CITY) FROM STATION WHERE RIGHT(CITY,1) IN ('a','e','o','I','u')"
   ]
  },
  {
   "cell_type": "markdown",
   "id": "2e812a3b",
   "metadata": {},
   "source": [
    "##### Select all city names DOESN'T start with vowels\n",
    "8-  SELECT DISTINCT(CITY) FROM STATION WHERE LEFT(CITY,1) NOT IN ('a','e','o','I','u')"
   ]
  },
  {
   "cell_type": "markdown",
   "id": "05da905b",
   "metadata": {},
   "source": [
    "##### Query the Name of any student in STUDENTS who scored higher than  Marks. Order your output by the last three characters of each name. If two or more students both have names ending in the same last three characters (i.e.: Bobby, Robby, etc.), secondary sort them by ascending ID."
   ]
  },
  {
   "cell_type": "markdown",
   "id": "26a0ecb5",
   "metadata": {},
   "source": [
    "9- SELECT Name FROM STUDENTS WHERE Marks > 75 ORDER BY RIGHT(Name, 3), ID ASC;"
   ]
  },
  {
   "cell_type": "markdown",
   "id": "1784caf0",
   "metadata": {},
   "source": [
    "#### Write a query that prints a list of employee names (i.e.: the name attribute) from the Employee table in alphabetical order."
   ]
  },
  {
   "cell_type": "markdown",
   "id": "4346a1f7",
   "metadata": {},
   "source": [
    "10 - SELECT NAME FROM EMPLOYEE ORDER BY NAME"
   ]
  },
  {
   "cell_type": "markdown",
   "id": "805d220f",
   "metadata": {},
   "source": [
    "#### Write a query that prints a list of employee names (i.e.: the name attribute) for employees in Employee having a salary greater than  per month who have been employees for less than  months. Sort your result by ascending employee_id."
   ]
  },
  {
   "cell_type": "markdown",
   "id": "25abc12c",
   "metadata": {},
   "source": [
    "11 - SELECT NAME FROM EMPLOYEE WHERE MONTHS < 10 AND SALARY > 2000 ORDER BY EMPLOYEE_ID ASC "
   ]
  },
  {
   "cell_type": "code",
   "execution_count": null,
   "id": "af032fdd",
   "metadata": {},
   "outputs": [],
   "source": []
  },
  {
   "cell_type": "code",
   "execution_count": null,
   "id": "259812b3",
   "metadata": {},
   "outputs": [],
   "source": []
  },
  {
   "cell_type": "code",
   "execution_count": null,
   "id": "e7c99949",
   "metadata": {},
   "outputs": [],
   "source": []
  }
 ],
 "metadata": {
  "kernelspec": {
   "display_name": "Python 3 (ipykernel)",
   "language": "python",
   "name": "python3"
  },
  "language_info": {
   "codemirror_mode": {
    "name": "ipython",
    "version": 3
   },
   "file_extension": ".py",
   "mimetype": "text/x-python",
   "name": "python",
   "nbconvert_exporter": "python",
   "pygments_lexer": "ipython3",
   "version": "3.9.13"
  }
 },
 "nbformat": 4,
 "nbformat_minor": 5
}
