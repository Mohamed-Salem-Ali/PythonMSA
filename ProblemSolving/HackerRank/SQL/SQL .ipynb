{
 "cells": [
  {
   "cell_type": "markdown",
   "id": "5571258e",
   "metadata": {},
   "source": [
    "##### Use to exclude duplicate answers \n",
    "1- SQL DISTINCT\n"
   ]
  },
  {
   "cell_type": "markdown",
   "id": "c0de9a68",
   "metadata": {},
   "source": [
    "##### For Even Number\n",
    "2- WHERE ID%2=0 "
   ]
  },
  {
   "cell_type": "markdown",
   "id": "2d29b82d",
   "metadata": {},
   "source": [
    "#### Difference between unique city and number of cities\n",
    "3- SELECT COUNT(CITY) - COUNT(DISTINCT(CITY)) FROM STATION"
   ]
  },
  {
   "cell_type": "markdown",
   "id": "b93e3c91",
   "metadata": {},
   "source": [
    "#### Shortest city  name\n",
    "4- SELECT CITY.LENGTH(CITY) AS LENGTH FROM STATION ORDER BY LENGTH, CITY LIMIT 1"
   ]
  },
  {
   "cell_type": "markdown",
   "id": "dc65da30",
   "metadata": {},
   "source": [
    "##### Longest city name\n",
    "5- SELECT CITY.LENGTH(CITY) AS LENGTH FROM STATION ORDER BY LENGTH DESC, CITY LIMIT 1"
   ]
  },
  {
   "cell_type": "markdown",
   "id": "9e389e87",
   "metadata": {},
   "source": [
    "##### Select all city names starting with vowels \n",
    "6- SELECT DISTINCT(CITY) FROM STATION WHERE LEFT(CITY,1) IN ('a','e','o','I','u')"
   ]
  },
  {
   "cell_type": "markdown",
   "id": "e65429b3",
   "metadata": {},
   "source": [
    "##### Select all city names ending with vowels\n",
    "\n",
    "7- SELECT DISTINCT(CITY) FROM STATION WHERE RIGHT(CITY,1) IN ('a','e','o','I','u')"
   ]
  },
  {
   "cell_type": "markdown",
   "id": "b83ec50d",
   "metadata": {},
   "source": [
    "##### Select all city names DOESN'T start with vowels\n",
    "8-  SELECT DISTINCT(CITY) FROM STATION WHERE LEFT(CITY,1) NOT IN ('a','e','o','I','u')"
   ]
  },
  {
   "cell_type": "markdown",
   "id": "5443204e",
   "metadata": {},
   "source": []
  },
  {
   "cell_type": "markdown",
   "id": "9aad3efa",
   "metadata": {},
   "source": []
  }
 ],
 "metadata": {
  "kernelspec": {
   "display_name": "Python 3 (ipykernel)",
   "language": "python",
   "name": "python3"
  },
  "language_info": {
   "codemirror_mode": {
    "name": "ipython",
    "version": 3
   },
   "file_extension": ".py",
   "mimetype": "text/x-python",
   "name": "python",
   "nbconvert_exporter": "python",
   "pygments_lexer": "ipython3",
   "version": "3.9.13"
  }
 },
 "nbformat": 4,
 "nbformat_minor": 5
}
