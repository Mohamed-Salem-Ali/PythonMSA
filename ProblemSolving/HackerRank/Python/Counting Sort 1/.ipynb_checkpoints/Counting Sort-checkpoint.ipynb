{
 "cells": [
  {
   "cell_type": "code",
   "execution_count": 1,
   "id": "instrumental-benjamin",
   "metadata": {},
   "outputs": [],
   "source": [
    "import numpy as np\n",
    "import os \n",
    "import math"
   ]
  },
  {
   "cell_type": "code",
   "execution_count": 11,
   "id": "fresh-happiness",
   "metadata": {},
   "outputs": [],
   "source": [
    "arr=[1,1,1,3,1,2,2,1,2,3]\n",
    "x=[0 for x in range(max(arr)+1)]"
   ]
  },
  {
   "cell_type": "code",
   "execution_count": 12,
   "id": "gothic-guatemala",
   "metadata": {},
   "outputs": [],
   "source": [
    "x\n",
    "for i in arr:\n",
    "    x[i]+=1\n",
    "#for i in range(len(arr)):\n",
    "#    x[arr[i]]+=1"
   ]
  },
  {
   "cell_type": "code",
   "execution_count": 13,
   "id": "amino-pearl",
   "metadata": {},
   "outputs": [
    {
     "data": {
      "text/plain": [
       "[0, 5, 3, 2]"
      ]
     },
     "execution_count": 13,
     "metadata": {},
     "output_type": "execute_result"
    }
   ],
   "source": [
    "x"
   ]
  },
  {
   "cell_type": "markdown",
   "id": "lovely-acceptance",
   "metadata": {},
   "source": [
    "### Answer in HAckerRank\n"
   ]
  },
  {
   "cell_type": "code",
   "execution_count": null,
   "id": "developed-richards",
   "metadata": {},
   "outputs": [],
   "source": [
    "def countingSort(arr):\n",
    "    # Write your code here\n",
    "    temp=arr\n",
    "    x=[0 for x in range(100)]\n",
    "    for i in arr:\n",
    "        x[i]+=1\n",
    "    return x"
   ]
  }
 ],
 "metadata": {
  "kernelspec": {
   "display_name": "Python 3 (ipykernel)",
   "language": "python",
   "name": "python3"
  },
  "language_info": {
   "codemirror_mode": {
    "name": "ipython",
    "version": 3
   },
   "file_extension": ".py",
   "mimetype": "text/x-python",
   "name": "python",
   "nbconvert_exporter": "python",
   "pygments_lexer": "ipython3",
   "version": "3.7.3"
  }
 },
 "nbformat": 4,
 "nbformat_minor": 5
}
