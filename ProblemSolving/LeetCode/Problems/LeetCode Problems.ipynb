{
 "cells": [
  {
   "cell_type": "markdown",
   "id": "03051cf0",
   "metadata": {},
   "source": [
    "# 17-4-2024\n",
    "## 1- 3110. Score of a String\n",
    "### https://leetcode.com/problems/score-of-a-string/"
   ]
  },
  {
   "cell_type": "markdown",
   "id": "bbc9bb27",
   "metadata": {},
   "source": [
    "You are given a string s. The score of a string is defined as the sum of the absolute difference between the ASCII values of adjacent characters.\n",
    "\n",
    "Return the score of s.\n",
    "\n",
    " \n",
    "\n",
    "Example 1:\n",
    "\n",
    "Input: s = \"hello\"\n",
    "\n",
    "Output: 13\n",
    "\n",
    "Explanation:\n",
    "\n",
    "The ASCII values of the characters in s are: 'h' = 104, 'e' = 101, 'l' = 108, 'o' = 111. So, the score of s would be |104 - 101| + |101 - 108| + |108 - 108| + |108 - 111| = 3 + 7 + 0 + 3 = 13.\n",
    "\n",
    "Example 2:\n",
    "\n",
    "Input: s = \"zaz\"\n",
    "\n",
    "Output: 50\n",
    "\n",
    "Explanation:\n",
    "\n",
    "The ASCII values of the characters in s are: 'z' = 122, 'a' = 97. So, the score of s would be |122 - 97| + |97 - 122| = 25 + 25 = 50."
   ]
  },
  {
   "cell_type": "code",
   "execution_count": null,
   "id": "2fd649fa",
   "metadata": {},
   "outputs": [],
   "source": [
    "class Solution:\n",
    "    def scoreOfString(self, s: str) -> int:\n",
    "        res=0\n",
    "        for i in range(1,len(s)):\n",
    "            res+=abs(ord(s[i]) - ord(s[i-1]))\n",
    "        return res"
   ]
  },
  {
   "cell_type": "markdown",
   "id": "c7b21e23",
   "metadata": {},
   "source": [
    "## 2- 1207 - unique-number-of-occurrences\n",
    "### https://leetcode.com/problems/unique-number-of-occurrences/description/"
   ]
  },
  {
   "cell_type": "markdown",
   "id": "aa45cc64",
   "metadata": {},
   "source": [
    "Given an array of integers arr, return true if the number of occurrences of each value in the array is unique or false otherwise.\n",
    "\n",
    " \n",
    "\n",
    "Example 1:\n",
    "\n",
    "Input: arr = [1,2,2,1,1,3]\n",
    "Output: true\n",
    "Explanation: The value 1 has 3 occurrences, 2 has 2 and 3 has 1. No two values have the same number of occurrences.\n",
    "Example 2:\n",
    "\n",
    "Input: arr = [1,2]\n",
    "Output: false\n",
    "Example 3:\n",
    "\n",
    "Input: arr = [-3,0,1,-3,1,1,1,-3,10,0]\n",
    "Output: true\n",
    " \n",
    "\n",
    "Constraints:\n",
    "\n",
    "1 <= arr.length <= 1000\n",
    "-1000 <= arr[i] <= 1000"
   ]
  },
  {
   "cell_type": "code",
   "execution_count": null,
   "id": "bdaca043",
   "metadata": {},
   "outputs": [],
   "source": [
    "def uniqueOccurrences(self, arr: List[int]) -> bool:\n",
    "    s = set(arr)\n",
    "    l=[]\n",
    "    for i in s:\n",
    "        if arr.count(i) in l:\n",
    "            return False\n",
    "        else:\n",
    "            l.append(arr.count(i))\n",
    "    return True"
   ]
  }
 ],
 "metadata": {
  "kernelspec": {
   "display_name": "Python 3 (ipykernel)",
   "language": "python",
   "name": "python3"
  },
  "language_info": {
   "codemirror_mode": {
    "name": "ipython",
    "version": 3
   },
   "file_extension": ".py",
   "mimetype": "text/x-python",
   "name": "python",
   "nbconvert_exporter": "python",
   "pygments_lexer": "ipython3",
   "version": "3.9.13"
  }
 },
 "nbformat": 4,
 "nbformat_minor": 5
}
