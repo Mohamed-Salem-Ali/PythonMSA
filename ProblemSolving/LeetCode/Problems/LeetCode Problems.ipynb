{
 "cells": [
  {
   "cell_type": "markdown",
   "id": "03051cf0",
   "metadata": {},
   "source": [
    "# 17-4-2024\n",
    "## 1- 3110. Score of a String\n",
    "### https://leetcode.com/problems/score-of-a-string/"
   ]
  },
  {
   "cell_type": "markdown",
   "id": "bbc9bb27",
   "metadata": {},
   "source": [
    "You are given a string s. The score of a string is defined as the sum of the absolute difference between the ASCII values of adjacent characters.\n",
    "\n",
    "Return the score of s.\n",
    "\n",
    " \n",
    "\n",
    "Example 1:\n",
    "\n",
    "Input: s = \"hello\"\n",
    "\n",
    "Output: 13\n",
    "\n",
    "Explanation:\n",
    "\n",
    "The ASCII values of the characters in s are: 'h' = 104, 'e' = 101, 'l' = 108, 'o' = 111. So, the score of s would be |104 - 101| + |101 - 108| + |108 - 108| + |108 - 111| = 3 + 7 + 0 + 3 = 13.\n",
    "\n",
    "Example 2:\n",
    "\n",
    "Input: s = \"zaz\"\n",
    "\n",
    "Output: 50\n",
    "\n",
    "Explanation:\n",
    "\n",
    "The ASCII values of the characters in s are: 'z' = 122, 'a' = 97. So, the score of s would be |122 - 97| + |97 - 122| = 25 + 25 = 50."
   ]
  },
  {
   "cell_type": "code",
   "execution_count": null,
   "id": "2fd649fa",
   "metadata": {},
   "outputs": [],
   "source": [
    "class Solution:\n",
    "    def scoreOfString(self, s: str) -> int:\n",
    "        res=0\n",
    "        for i in range(1,len(s)):\n",
    "            res+=abs(ord(s[i]) - ord(s[i-1]))\n",
    "        return res"
   ]
  },
  {
   "cell_type": "markdown",
   "id": "c7b21e23",
   "metadata": {},
   "source": [
    "## 2- 1207 - unique-number-of-occurrences\n",
    "### https://leetcode.com/problems/unique-number-of-occurrences/description/"
   ]
  },
  {
   "cell_type": "markdown",
   "id": "aa45cc64",
   "metadata": {},
   "source": [
    "Given an array of integers arr, return true if the number of occurrences of each value in the array is unique or false otherwise.\n",
    "\n",
    " \n",
    "\n",
    "Example 1:\n",
    "\n",
    "Input: arr = [1,2,2,1,1,3]\n",
    "Output: true\n",
    "Explanation: The value 1 has 3 occurrences, 2 has 2 and 3 has 1. No two values have the same number of occurrences.\n",
    "Example 2:\n",
    "\n",
    "Input: arr = [1,2]\n",
    "Output: false\n",
    "Example 3:\n",
    "\n",
    "Input: arr = [-3,0,1,-3,1,1,1,-3,10,0]\n",
    "Output: true\n",
    " \n",
    "\n",
    "Constraints:\n",
    "\n",
    "1 <= arr.length <= 1000\n",
    "-1000 <= arr[i] <= 1000"
   ]
  },
  {
   "cell_type": "code",
   "execution_count": null,
   "id": "bdaca043",
   "metadata": {},
   "outputs": [],
   "source": [
    "def uniqueOccurrences(self, arr: List[int]) -> bool:\n",
    "    s = set(arr)\n",
    "    l=[]\n",
    "    for i in s:\n",
    "        if arr.count(i) in l:\n",
    "            return False\n",
    "        else:\n",
    "            l.append(arr.count(i))\n",
    "    return True"
   ]
  },
  {
   "cell_type": "markdown",
   "id": "cd4c4fa3",
   "metadata": {},
   "source": [
    "# 18-4-2024\n",
    "## 3- 258. Add Digits\n",
    "### https://leetcode.com/problems/add-digits/submissions/1235385784/"
   ]
  },
  {
   "cell_type": "markdown",
   "id": "0d5f257d",
   "metadata": {},
   "source": [
    "Given an integer num, repeatedly add all its digits until the result has only one digit, and return it.\n",
    "\n",
    " \n",
    "\n",
    "Example 1:\n",
    "\n",
    "Input: num = 38\n",
    "Output: 2\n",
    "Explanation: The process is\n",
    "38 --> 3 + 8 --> 11\n",
    "11 --> 1 + 1 --> 2 \n",
    "Since 2 has only one digit, return it.\n",
    "Example 2:\n",
    "\n",
    "Input: num = 0\n",
    "Output: 0\n",
    " \n",
    "\n",
    "Constraints:\n",
    "\n",
    "0 <= num <= 231 - 1"
   ]
  },
  {
   "cell_type": "code",
   "execution_count": 3,
   "id": "e8885d6c",
   "metadata": {},
   "outputs": [],
   "source": [
    "def addDigits_1(self, num: int) -> int:\n",
    "        if num == 0:\n",
    "            return 0\n",
    "        if num % 9 == 0:\n",
    "            return 9\n",
    "        return num % 9\n"
   ]
  },
  {
   "cell_type": "code",
   "execution_count": 2,
   "id": "dbaeddcf",
   "metadata": {},
   "outputs": [],
   "source": [
    "def addDigits_2(self, num: int) -> int:\n",
    "        while num >= 10:\n",
    "            num = sum(int(digit) for digit in str(num))\n",
    "        return num\n"
   ]
  },
  {
   "cell_type": "markdown",
   "id": "8e3452ae",
   "metadata": {},
   "source": [
    "# 28.04.2024\n",
    "## 66. Plus One\n",
    "### https://leetcode.com/problems/plus-one/\n",
    "#### You are given a large integer represented as an integer array digits, where each digits[i] is the ith digit of the integer. The digits are ordered from most significant to least significant in left-to-right order. The large integer does not contain any leading 0's.\n",
    "\n",
    "#### Increment the large integer by one and return the resulting array of digits."
   ]
  },
  {
   "cell_type": "code",
   "execution_count": 6,
   "id": "739ec4c2",
   "metadata": {},
   "outputs": [],
   "source": [
    "def increment_array(arr):\n",
    "    n = len(arr)\n",
    "    \n",
    "    # Start from the rightmost digit\n",
    "    for i in range(n - 1, -1, -1):\n",
    "        # Increment the current digit by 1\n",
    "        arr[i] += 1\n",
    "        \n",
    "        # If the result is less than 10, we're done\n",
    "        if arr[i] < 10:\n",
    "            break\n",
    "        else:\n",
    "            # Set this digit to 0 and move to the next digit\n",
    "            arr[i] = 0\n",
    "    \n",
    "    # If the leftmost digit is 10, add a new digit 1 at the beginning\n",
    "    #if arr[0] == 10:\n",
    "    #    arr[0] = 0\n",
    "    #    arr.insert(0, 1)\n",
    "    \n",
    "    return arr"
   ]
  },
  {
   "cell_type": "code",
   "execution_count": 7,
   "id": "2bc747a5",
   "metadata": {},
   "outputs": [
    {
     "data": {
      "text/plain": [
       "[0]"
      ]
     },
     "execution_count": 7,
     "metadata": {},
     "output_type": "execute_result"
    }
   ],
   "source": [
    "l=[9]\n",
    "increment_array(l)"
   ]
  },
  {
   "cell_type": "code",
   "execution_count": 8,
   "id": "5693bb2b",
   "metadata": {},
   "outputs": [
    {
     "name": "stdout",
     "output_type": "stream",
     "text": [
      "[1, 2, 3, 5]\n",
      "[0]\n",
      "[0, 0, 0]\n"
     ]
    }
   ],
   "source": [
    "def increment_array(arr):\n",
    "    n = len(arr)\n",
    "    \n",
    "    # Start from the rightmost digit\n",
    "    for i in range(n - 1, -1, -1):\n",
    "        # Increment the current digit by 1\n",
    "        arr[i] += 1\n",
    "        \n",
    "        # If the result is less than 10, we're done\n",
    "        if arr[i] < 10:\n",
    "            break\n",
    "        else:\n",
    "            # Set this digit to 0 and move to the next digit\n",
    "            arr[i] = 0\n",
    "    \n",
    "    # If the leftmost digit is 10, add a new digit 1 at the beginning\n",
    "    if arr[0] == 10:\n",
    "        arr[0] = 0\n",
    "        arr.insert(0, 1)\n",
    "    \n",
    "    return arr\n",
    "\n",
    "# Test cases\n",
    "print(increment_array([1, 2, 3, 4]))  # Output: [1, 2, 3, 5]\n",
    "print(increment_array([9]))           # Output: [1, 0]\n",
    "print(increment_array([9, 9, 9]))     # Output: [1, 0, 0, 0]"
   ]
  },
  {
   "cell_type": "code",
   "execution_count": 9,
   "id": "6d2722b1",
   "metadata": {},
   "outputs": [
    {
     "name": "stdout",
     "output_type": "stream",
     "text": [
      "[1, 2, 3, 5]\n",
      "[1, 0]\n",
      "[1, 0, 0, 0]\n"
     ]
    }
   ],
   "source": [
    "def increment_array(arr):\n",
    "    n = len(arr)\n",
    "    \n",
    "    # If the array contains only one digit\n",
    "    if n == 1:\n",
    "        # Increment the digit by 1\n",
    "        arr[0] += 1\n",
    "        \n",
    "        # If the result is 10, set it to 0 and add a new digit 1 at the beginning\n",
    "        if arr[0] == 10:\n",
    "            arr[0] = 0\n",
    "            arr.insert(0, 1)\n",
    "    else:\n",
    "        # Start from the rightmost digit\n",
    "        for i in range(n - 1, -1, -1):\n",
    "            # Increment the current digit by 1\n",
    "            arr[i] += 1\n",
    "            \n",
    "            # If the result is less than 10, we're done\n",
    "            if arr[i] < 10:\n",
    "                break\n",
    "            else:\n",
    "                # Set this digit to 0 and move to the next digit\n",
    "                arr[i] = 0\n",
    "                # If the leftmost digit is 10 and not the last digit, add a new digit 1 at the beginning\n",
    "                if i == 0:\n",
    "                    arr.insert(0, 1)\n",
    "        \n",
    "    return arr\n",
    "\n",
    "# Test cases\n",
    "print(increment_array([1, 2, 3, 4]))  # Output: [1, 2, 3, 5]\n",
    "print(increment_array([9]))           # Output: [1, 0]\n",
    "print(increment_array([9, 9, 9]))     # Output: [1, 0, 0, 0]"
   ]
  },
  {
   "cell_type": "code",
   "execution_count": 10,
   "id": "2bdc4714",
   "metadata": {},
   "outputs": [
    {
     "name": "stdout",
     "output_type": "stream",
     "text": [
      "[1, 2, 3, 5]\n",
      "[1, 0]\n",
      "[1, 0, 0, 0]\n"
     ]
    }
   ],
   "source": [
    "def list_to_number(digits):\n",
    "    # Convert the list of digits to a single integer\n",
    "    num = int(''.join(map(str, digits)))\n",
    "    return num\n",
    "\n",
    "def number_to_list(num):\n",
    "    # Convert the integer to a list of digits\n",
    "    digits = list(map(int, str(num)))\n",
    "    return digits\n",
    "\n",
    "def increment_array(arr):\n",
    "    # Convert the list of digits to a number\n",
    "    num = list_to_number(arr)\n",
    "    \n",
    "    # Increment the number by one\n",
    "    num += 1\n",
    "    \n",
    "    # Convert the incremented number back to a list of digits\n",
    "    new_arr = number_to_list(num)\n",
    "    \n",
    "    return new_arr\n",
    "\n",
    "# Test cases\n",
    "print(increment_array([1, 2, 3, 4]))  # Output: [1, 2, 3, 5]\n",
    "print(increment_array([9]))           # Output: [1, 0]\n",
    "print(increment_array([9, 9, 9]))     # Output: [1, 0, 0, 0]"
   ]
  },
  {
   "cell_type": "markdown",
   "id": "072a4e57",
   "metadata": {},
   "source": [
    "# 29.04.2024\n",
    "## 67. Add Binary\n",
    "### https://leetcode.com/problems/add-binary/description/\n",
    "#### Given two binary strings a and b, return their sum as a binary string.\n",
    "\n",
    " \n",
    "\n",
    "#### Example 1:\n",
    "\n",
    "#### Input: a = \"11\", b = \"1\"\n",
    "#### Output: \"100\"\n",
    "#### Example 2:\n",
    "\n",
    "#### Input: a = \"1010\", b = \"1011\"\n",
    "#### Output: \"10101\"\n",
    " \n",
    "\n",
    "#### Constraints:\n",
    "\n",
    "#### 1<= a.length, b.length <= 104\n",
    "#### a and b consist only of '0' or '1' characters.\n",
    "#### Each string does not contain leading zeros except for the zero itself."
   ]
  },
  {
   "cell_type": "code",
   "execution_count": null,
   "id": "6e077842",
   "metadata": {},
   "outputs": [],
   "source": [
    "class Solution:\n",
    "    def addBinary(self, a: str, b: str) -> str:\n",
    "        # Convert binary strings to integers\n",
    "        num1 = int(a, 2)\n",
    "        num2 = int(b, 2)\n",
    "    \n",
    "        # Add the integers\n",
    "        sum_decimal = num1 + num2\n",
    "    \n",
    "        # Convert the sum back to a binary string\n",
    "        sum_binary = bin(sum_decimal)[2:]\n",
    "    \n",
    "        return sum_binary"
   ]
  },
  {
   "cell_type": "markdown",
   "id": "97a35cc7",
   "metadata": {},
   "source": []
  },
  {
   "cell_type": "code",
   "execution_count": 6,
   "id": "342995f5",
   "metadata": {},
   "outputs": [],
   "source": [
    "a=\"abcde\"\n",
    "b=\"abcde\""
   ]
  },
  {
   "cell_type": "code",
   "execution_count": 7,
   "id": "a076ba45",
   "metadata": {},
   "outputs": [
    {
     "data": {
      "text/plain": [
       "0"
      ]
     },
     "execution_count": 7,
     "metadata": {},
     "output_type": "execute_result"
    }
   ],
   "source": [
    "sum=0\n",
    "for i in range(len(a)):\n",
    "    sum+=abs(b.index(a[i])-i)\n",
    "sum"
   ]
  },
  {
   "cell_type": "code",
   "execution_count": null,
   "id": "f36f31ed",
   "metadata": {},
   "outputs": [],
   "source": [
    "def findPermutationDifference(self, s: str, t: str) -> int:\n",
    "        sum=0\n",
    "        for i in range(len(s)):\n",
    "            sum += abs(t.index(s[i])-i)\n",
    "        return sum"
   ]
  },
  {
   "cell_type": "code",
   "execution_count": 35,
   "id": "3a262686",
   "metadata": {},
   "outputs": [
    {
     "name": "stdout",
     "output_type": "stream",
     "text": [
      "Help on dict object:\n",
      "\n",
      "class dict(object)\n",
      " |  dict() -> new empty dictionary\n",
      " |  dict(mapping) -> new dictionary initialized from a mapping object's\n",
      " |      (key, value) pairs\n",
      " |  dict(iterable) -> new dictionary initialized as if via:\n",
      " |      d = {}\n",
      " |      for k, v in iterable:\n",
      " |          d[k] = v\n",
      " |  dict(**kwargs) -> new dictionary initialized with the name=value pairs\n",
      " |      in the keyword argument list.  For example:  dict(one=1, two=2)\n",
      " |  \n",
      " |  Built-in subclasses:\n",
      " |      StgDict\n",
      " |  \n",
      " |  Methods defined here:\n",
      " |  \n",
      " |  __contains__(self, key, /)\n",
      " |      True if the dictionary has the specified key, else False.\n",
      " |  \n",
      " |  __delitem__(self, key, /)\n",
      " |      Delete self[key].\n",
      " |  \n",
      " |  __eq__(self, value, /)\n",
      " |      Return self==value.\n",
      " |  \n",
      " |  __ge__(self, value, /)\n",
      " |      Return self>=value.\n",
      " |  \n",
      " |  __getattribute__(self, name, /)\n",
      " |      Return getattr(self, name).\n",
      " |  \n",
      " |  __getitem__(...)\n",
      " |      x.__getitem__(y) <==> x[y]\n",
      " |  \n",
      " |  __gt__(self, value, /)\n",
      " |      Return self>value.\n",
      " |  \n",
      " |  __init__(self, /, *args, **kwargs)\n",
      " |      Initialize self.  See help(type(self)) for accurate signature.\n",
      " |  \n",
      " |  __ior__(self, value, /)\n",
      " |      Return self|=value.\n",
      " |  \n",
      " |  __iter__(self, /)\n",
      " |      Implement iter(self).\n",
      " |  \n",
      " |  __le__(self, value, /)\n",
      " |      Return self<=value.\n",
      " |  \n",
      " |  __len__(self, /)\n",
      " |      Return len(self).\n",
      " |  \n",
      " |  __lt__(self, value, /)\n",
      " |      Return self<value.\n",
      " |  \n",
      " |  __ne__(self, value, /)\n",
      " |      Return self!=value.\n",
      " |  \n",
      " |  __or__(self, value, /)\n",
      " |      Return self|value.\n",
      " |  \n",
      " |  __repr__(self, /)\n",
      " |      Return repr(self).\n",
      " |  \n",
      " |  __reversed__(self, /)\n",
      " |      Return a reverse iterator over the dict keys.\n",
      " |  \n",
      " |  __ror__(self, value, /)\n",
      " |      Return value|self.\n",
      " |  \n",
      " |  __setitem__(self, key, value, /)\n",
      " |      Set self[key] to value.\n",
      " |  \n",
      " |  __sizeof__(...)\n",
      " |      D.__sizeof__() -> size of D in memory, in bytes\n",
      " |  \n",
      " |  clear(...)\n",
      " |      D.clear() -> None.  Remove all items from D.\n",
      " |  \n",
      " |  copy(...)\n",
      " |      D.copy() -> a shallow copy of D\n",
      " |  \n",
      " |  get(self, key, default=None, /)\n",
      " |      Return the value for key if key is in the dictionary, else default.\n",
      " |  \n",
      " |  items(...)\n",
      " |      D.items() -> a set-like object providing a view on D's items\n",
      " |  \n",
      " |  keys(...)\n",
      " |      D.keys() -> a set-like object providing a view on D's keys\n",
      " |  \n",
      " |  pop(...)\n",
      " |      D.pop(k[,d]) -> v, remove specified key and return the corresponding value.\n",
      " |      \n",
      " |      If key is not found, default is returned if given, otherwise KeyError is raised\n",
      " |  \n",
      " |  popitem(self, /)\n",
      " |      Remove and return a (key, value) pair as a 2-tuple.\n",
      " |      \n",
      " |      Pairs are returned in LIFO (last-in, first-out) order.\n",
      " |      Raises KeyError if the dict is empty.\n",
      " |  \n",
      " |  setdefault(self, key, default=None, /)\n",
      " |      Insert key with a value of default if key is not in the dictionary.\n",
      " |      \n",
      " |      Return the value for key if key is in the dictionary, else default.\n",
      " |  \n",
      " |  update(...)\n",
      " |      D.update([E, ]**F) -> None.  Update D from dict/iterable E and F.\n",
      " |      If E is present and has a .keys() method, then does:  for k in E: D[k] = E[k]\n",
      " |      If E is present and lacks a .keys() method, then does:  for k, v in E: D[k] = v\n",
      " |      In either case, this is followed by: for k in F:  D[k] = F[k]\n",
      " |  \n",
      " |  values(...)\n",
      " |      D.values() -> an object providing a view on D's values\n",
      " |  \n",
      " |  ----------------------------------------------------------------------\n",
      " |  Class methods defined here:\n",
      " |  \n",
      " |  __class_getitem__(...) from builtins.type\n",
      " |      See PEP 585\n",
      " |  \n",
      " |  fromkeys(iterable, value=None, /) from builtins.type\n",
      " |      Create a new dictionary with keys from iterable and values set to value.\n",
      " |  \n",
      " |  ----------------------------------------------------------------------\n",
      " |  Static methods defined here:\n",
      " |  \n",
      " |  __new__(*args, **kwargs) from builtins.type\n",
      " |      Create and return a new object.  See help(type) for accurate signature.\n",
      " |  \n",
      " |  ----------------------------------------------------------------------\n",
      " |  Data and other attributes defined here:\n",
      " |  \n",
      " |  __hash__ = None\n",
      "\n"
     ]
    }
   ],
   "source": [
    "s = \"acdadvvdx\"\n",
    "s[1:].index('a') \n",
    "x = {}"
   ]
  },
  {
   "cell_type": "code",
   "execution_count": 39,
   "id": "21da156f",
   "metadata": {},
   "outputs": [
    {
     "name": "stdout",
     "output_type": "stream",
     "text": [
      "a\n",
      "b\n"
     ]
    },
    {
     "data": {
      "text/plain": [
       "{'a', 'b', 'c', 'd'}"
      ]
     },
     "execution_count": 39,
     "metadata": {},
     "output_type": "execute_result"
    }
   ],
   "source": [
    "s=\"abcdab\"\n",
    "x=set()\n",
    "for i in s :\n",
    "    if i not in x:\n",
    "        x.add(i)\n",
    "    else:\n",
    "        print(i)\n",
    "x"
   ]
  },
  {
   "cell_type": "markdown",
   "id": "0adf19aa",
   "metadata": {},
   "source": [
    "A sentence consists of lowercase letters ('a' to 'z'), digits ('0' to '9'), hyphens ('-'), punctuation marks ('!', '.', and ','), and spaces (' ') only. Each sentence can be broken down into one or more tokens separated by one or more spaces ' '.\n",
    "\n",
    "A token is a valid word if all three of the following are true:\n",
    "\n",
    "It only contains lowercase letters, hyphens, and/or punctuation (no digits).\n",
    "There is at most one hyphen '-'. If present, it must be surrounded by lowercase characters (\"a-b\" is valid, but \"-ab\" and \"ab-\" are not valid).\n",
    "There is at most one punctuation mark. If present, it must be at the end of the token (\"ab,\", \"cd!\", and \".\" are valid, but \"a!b\" and \"c.,\" are not valid).\n",
    "Examples of valid words include \"a-b.\", \"afad\", \"ba-c\", \"a!\", and \"!\".\n",
    "\n",
    "Given a string sentence, return the number of valid words in sentence"
   ]
  },
  {
   "cell_type": "code",
   "execution_count": null,
   "id": "73d2169b",
   "metadata": {},
   "outputs": [],
   "source": [
    "def check(s):\n",
    "    "
   ]
  },
  {
   "cell_type": "code",
   "execution_count": 49,
   "id": "345f123e",
   "metadata": {},
   "outputs": [
    {
     "data": {
      "text/plain": [
       "['aaaaa', 'aaa', 'sss', 'ddd', 'eee']"
      ]
     },
     "execution_count": 49,
     "metadata": {},
     "output_type": "execute_result"
    }
   ],
   "source": [
    "s= \"aaaaa aaa sss ddd eee\"\n",
    "x=s.split()\n",
    "for i in x:\n",
    "    if i"
   ]
  },
  {
   "cell_type": "code",
   "execution_count": 50,
   "id": "a49dbfd5",
   "metadata": {},
   "outputs": [
    {
     "data": {
      "text/plain": [
       "'eee'"
      ]
     },
     "execution_count": 50,
     "metadata": {},
     "output_type": "execute_result"
    }
   ],
   "source": [
    "x[-1]\n"
   ]
  },
  {
   "cell_type": "code",
   "execution_count": 51,
   "id": "5f3e352b",
   "metadata": {},
   "outputs": [
    {
     "data": {
      "text/plain": [
       "3"
      ]
     },
     "execution_count": 51,
     "metadata": {},
     "output_type": "execute_result"
    }
   ],
   "source": [
    "len(x[-1])"
   ]
  },
  {
   "cell_type": "code",
   "execution_count": 57,
   "id": "53a6ae60",
   "metadata": {},
   "outputs": [
    {
     "data": {
      "text/plain": [
       "-1"
      ]
     },
     "execution_count": 57,
     "metadata": {},
     "output_type": "execute_result"
    }
   ],
   "source": [
    "x=\"aaa\"\n",
    "m=\"loop\"\n",
    "z=\"e\"\n",
    "y=\"mklnjlknlaaamlkmkl\"\n",
    "y.rfind(z)"
   ]
  },
  {
   "cell_type": "code",
   "execution_count": 1,
   "id": "4fa0758e",
   "metadata": {},
   "outputs": [
    {
     "data": {
      "text/plain": [
       "{0: 2, 1: 3, 2: 3}"
      ]
     },
     "execution_count": 1,
     "metadata": {},
     "output_type": "execute_result"
    }
   ],
   "source": [
    "nums=[0,2,1,2,0,1,1,2]\n",
    "output={0:0,1:0,2:0}\n",
    "for i in range(len(nums)):\n",
    "    output[nums[i]]+=1\n",
    "output"
   ]
  },
  {
   "cell_type": "code",
   "execution_count": 13,
   "id": "e4086c3b",
   "metadata": {},
   "outputs": [
    {
     "data": {
      "text/plain": [
       "[0, 0, 1, 1, 1, 2, 2, 2]"
      ]
     },
     "execution_count": 13,
     "metadata": {},
     "output_type": "execute_result"
    }
   ],
   "source": [
    "counter=0\n",
    "for i , j in output.items():\n",
    "    x=j\n",
    "    while x>0:\n",
    "        nums[counter]=i\n",
    "        x-=1\n",
    "        counter+=1\n",
    "nums"
   ]
  },
  {
   "cell_type": "markdown",
   "id": "14562d7b",
   "metadata": {},
   "source": [
    "Input: arr1 = [2,3,1,3,2,4,6,7,9,2,19], arr2 = [2,1,4,3,9,6]\n",
    "Output: [2,2,2,1,4,3,3,9,6,7,19]\n"
   ]
  },
  {
   "cell_type": "code",
   "execution_count": 33,
   "id": "ce7f816c",
   "metadata": {},
   "outputs": [
    {
     "data": {
      "text/plain": [
       "[2, 2, 2, 1, 4, 3, 3, 9, 6, 7, 19]"
      ]
     },
     "execution_count": 33,
     "metadata": {},
     "output_type": "execute_result"
    }
   ],
   "source": [
    "x={}\n",
    "arr2=[2,1,4,3,9,6]\n",
    "arr1 = [2,3,1,3,2,4,6,7,9,2,19]\n",
    "x={x:0 for x in arr2}\n",
    "l=[]\n",
    "for i in arr1:\n",
    "    if i in x:\n",
    "        x[i]+=1\n",
    "    else:\n",
    "        l.append(i)\n",
    "counter=0\n",
    "nums=[]\n",
    "l.sort()\n",
    "for i , j in x.items():\n",
    "    x=j\n",
    "    while x>0:\n",
    "        nums.append(i)\n",
    "        x-=1\n",
    "        counter+=1\n",
    "nums+l"
   ]
  },
  {
   "cell_type": "code",
   "execution_count": 39,
   "id": "9fc0493f",
   "metadata": {},
   "outputs": [
    {
     "data": {
      "text/plain": [
       "[1, 1, 1, 2, 3, 4]"
      ]
     },
     "execution_count": 39,
     "metadata": {},
     "output_type": "execute_result"
    }
   ],
   "source": [
    "heights =[1,1,4,2,1,3]\n",
    "sortedHeights=sorted(heights)\n",
    "sortedHeights"
   ]
  },
  {
   "cell_type": "code",
   "execution_count": 40,
   "id": "b40c7a00",
   "metadata": {},
   "outputs": [
    {
     "data": {
      "text/plain": [
       "3"
      ]
     },
     "execution_count": 40,
     "metadata": {},
     "output_type": "execute_result"
    }
   ],
   "source": [
    "heights =[1,1,4,2,1,3]\n",
    "sortedHeights=sorted(heights)\n",
    "sortedHeights\n",
    "output=0\n",
    "for i in range(len(heights)):\n",
    "    if sortedHeights[i]!=heights[i]:\n",
    "        output+=1\n",
    "output"
   ]
  },
  {
   "cell_type": "code",
   "execution_count": 15,
   "id": "97746c97",
   "metadata": {},
   "outputs": [
    {
     "data": {
      "text/plain": [
       "0"
      ]
     },
     "execution_count": 15,
     "metadata": {},
     "output_type": "execute_result"
    }
   ],
   "source": [
    "str1=\"ABCABC\"\n",
    "str2=\"ABC\"\n",
    "str1.find(str2)"
   ]
  },
  {
   "cell_type": "code",
   "execution_count": 17,
   "id": "34945d83",
   "metadata": {},
   "outputs": [
    {
     "data": {
      "text/plain": [
       "(0, 'ABC')"
      ]
     },
     "execution_count": 17,
     "metadata": {},
     "output_type": "execute_result"
    }
   ],
   "source": [
    "l=len(str2)\n",
    "x=str1.find(str2)\n",
    "str1=str1[l:]\n",
    "x,str1"
   ]
  },
  {
   "cell_type": "code",
   "execution_count": null,
   "id": "70b320d2",
   "metadata": {},
   "outputs": [],
   "source": []
  }
 ],
 "metadata": {
  "kernelspec": {
   "display_name": "Python 3 (ipykernel)",
   "language": "python",
   "name": "python3"
  },
  "language_info": {
   "codemirror_mode": {
    "name": "ipython",
    "version": 3
   },
   "file_extension": ".py",
   "mimetype": "text/x-python",
   "name": "python",
   "nbconvert_exporter": "python",
   "pygments_lexer": "ipython3",
   "version": "3.9.13"
  }
 },
 "nbformat": 4,
 "nbformat_minor": 5
}
