{
 "cells": [
  {
   "cell_type": "markdown",
   "id": "bf69ab19",
   "metadata": {},
   "source": [
    "# Introduction to backend development"
   ]
  },
  {
   "cell_type": "markdown",
   "id": "db7b918f",
   "metadata": {},
   "source": [
    "## 1- A network "
   ]
  },
  {
   "cell_type": "markdown",
   "id": "4ccfa28f",
   "metadata": {},
   "source": [
    "### A network is made up of at least two devices that connect and communicate via a wired or wireless connection.\n",
    "### one network switch can connect to another switch to link two networks \n",
    "### Multiple ones can be connected to form an interconnected network like internet"
   ]
  },
  {
   "cell_type": "markdown",
   "id": "8bdb69aa",
   "metadata": {},
   "source": [
    "# _________________________________________________"
   ]
  },
  {
   "cell_type": "markdown",
   "id": "69c82160",
   "metadata": {},
   "source": [
    "## 2- Server "
   ]
  },
  {
   "cell_type": "markdown",
   "id": "72eae0bb",
   "metadata": {},
   "source": [
    "### Computer that runs applictions and services "
   ]
  },
  {
   "cell_type": "markdown",
   "id": "0251d275",
   "metadata": {},
   "source": [
    "### Web server : \n",
    "#### 1- can handle security \n",
    "#### 2- Website storge and administration \n",
    "#### 3- manage emails\n",
    "#### 4- handle thousthousands od requests from client per second (High Volumes of web requests)\n"
   ]
  },
  {
   "cell_type": "markdown",
   "id": "2e1900ad",
   "metadata": {},
   "source": [
    "# _________________________________________________"
   ]
  },
  {
   "cell_type": "markdown",
   "id": "bcedf395",
   "metadata": {},
   "source": [
    "## 3- Web page"
   ]
  },
  {
   "cell_type": "markdown",
   "id": "6bb69772",
   "metadata": {},
   "source": [
    "### is a document that displays images, texts, videos and other content in the web browser"
   ]
  },
  {
   "cell_type": "markdown",
   "id": "181f32f8",
   "metadata": {},
   "source": [
    "# _________________________________________________"
   ]
  },
  {
   "cell_type": "markdown",
   "id": "af6bf2c7",
   "metadata": {},
   "source": [
    "## 4- Website\n",
    "### is a collection of webpages that link together \n",
    "### technologies:\n",
    "#### 1- Html: structures the content you see\n",
    "#### 2- CSS: controls the colors and styles \n",
    "#### 3- JavaScript : is responible for the user interaction"
   ]
  },
  {
   "cell_type": "markdown",
   "id": "97d0d942",
   "metadata": {},
   "source": [
    "# _________________________________________________"
   ]
  },
  {
   "cell_type": "markdown",
   "id": "58ddbc9f",
   "metadata": {},
   "source": [
    "## 5- HTML (Hypertext markup language)\n",
    "### works by using markup tags\n",
    "### describe the content that is displayed in the bowser window\n",
    "### (headings, paragraghs, images, multimedia elements, audio, video)"
   ]
  },
  {
   "cell_type": "markdown",
   "id": "348add50",
   "metadata": {},
   "source": [
    "# _________________________________________________"
   ]
  },
  {
   "cell_type": "markdown",
   "id": "67b6d650",
   "metadata": {},
   "source": [
    "## 6- CSS (Cascading style sheets)\n",
    "### adds visual enhancements like colors and layout styling \n"
   ]
  },
  {
   "cell_type": "markdown",
   "id": "e35287ef",
   "metadata": {},
   "source": [
    "# _________________________________________________"
   ]
  },
  {
   "cell_type": "markdown",
   "id": "59f8b3bf",
   "metadata": {},
   "source": [
    "## 7- JavaScript\n",
    "### programming language built into browser use for interactivity, data processing, control and actions "
   ]
  },
  {
   "cell_type": "markdown",
   "id": "33daef8b",
   "metadata": {},
   "source": [
    "# _________________________________________________"
   ]
  },
  {
   "cell_type": "markdown",
   "id": "8e96e5d1",
   "metadata": {},
   "source": [
    "## 8- Web browser \n",
    "### software application that you use to browse the world wide web it works by sending a request to a web server and then "
   ]
  },
  {
   "cell_type": "code",
   "execution_count": null,
   "id": "96bd003e",
   "metadata": {},
   "outputs": [],
   "source": []
  },
  {
   "cell_type": "code",
   "execution_count": null,
   "id": "a5288504",
   "metadata": {},
   "outputs": [],
   "source": []
  },
  {
   "cell_type": "code",
   "execution_count": null,
   "id": "2e97acd1",
   "metadata": {},
   "outputs": [],
   "source": []
  },
  {
   "cell_type": "code",
   "execution_count": null,
   "id": "468fedda",
   "metadata": {},
   "outputs": [],
   "source": []
  },
  {
   "cell_type": "code",
   "execution_count": null,
   "id": "8896516c",
   "metadata": {},
   "outputs": [],
   "source": []
  },
  {
   "cell_type": "code",
   "execution_count": null,
   "id": "350c6e54",
   "metadata": {},
   "outputs": [],
   "source": []
  },
  {
   "cell_type": "code",
   "execution_count": null,
   "id": "ba17e075",
   "metadata": {},
   "outputs": [],
   "source": []
  },
  {
   "cell_type": "code",
   "execution_count": null,
   "id": "32920239",
   "metadata": {},
   "outputs": [],
   "source": []
  },
  {
   "cell_type": "code",
   "execution_count": null,
   "id": "6c6d54f7",
   "metadata": {},
   "outputs": [],
   "source": []
  },
  {
   "cell_type": "code",
   "execution_count": null,
   "id": "4c33dcb1",
   "metadata": {},
   "outputs": [],
   "source": []
  },
  {
   "cell_type": "code",
   "execution_count": null,
   "id": "130a0ec6",
   "metadata": {},
   "outputs": [],
   "source": []
  },
  {
   "cell_type": "code",
   "execution_count": null,
   "id": "fb38df53",
   "metadata": {},
   "outputs": [],
   "source": []
  },
  {
   "cell_type": "code",
   "execution_count": null,
   "id": "c409ce07",
   "metadata": {},
   "outputs": [],
   "source": []
  }
 ],
 "metadata": {
  "kernelspec": {
   "display_name": "Python 3 (ipykernel)",
   "language": "python",
   "name": "python3"
  },
  "language_info": {
   "codemirror_mode": {
    "name": "ipython",
    "version": 3
   },
   "file_extension": ".py",
   "mimetype": "text/x-python",
   "name": "python",
   "nbconvert_exporter": "python",
   "pygments_lexer": "ipython3",
   "version": "3.9.13"
  }
 },
 "nbformat": 4,
 "nbformat_minor": 5
}
