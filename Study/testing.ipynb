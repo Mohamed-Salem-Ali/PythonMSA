{
 "cells": [
  {
   "cell_type": "code",
   "execution_count": 2,
   "id": "c9188cd5",
   "metadata": {},
   "outputs": [
    {
     "name": "stdout",
     "output_type": "stream",
     "text": [
      "1\n",
      "34\n",
      "2\n",
      "132\n",
      "5\n",
      "12\n",
      "13\n",
      "846\n",
      "15\n",
      "496\n",
      "77\n",
      "51\n",
      "21\n"
     ]
    }
   ],
   "source": [
    "nums = {34,12,1,21,2,12,12,12,1,2,132,5,13,15,496,846,51,77}\n",
    "for i in nums:\n",
    "    print(i)"
   ]
  },
  {
   "cell_type": "code",
   "execution_count": 3,
   "id": "c40b51ba",
   "metadata": {},
   "outputs": [
    {
     "ename": "SyntaxError",
     "evalue": "invalid syntax (224892738.py, line 1)",
     "output_type": "error",
     "traceback": [
      "\u001b[1;36m  Cell \u001b[1;32mIn[3], line 1\u001b[1;36m\u001b[0m\n\u001b[1;33m    =44\u001b[0m\n\u001b[1;37m    ^\u001b[0m\n\u001b[1;31mSyntaxError\u001b[0m\u001b[1;31m:\u001b[0m invalid syntax\n"
     ]
    }
   ],
   "source": [
    " =44"
   ]
  },
  {
   "cell_type": "code",
   "execution_count": 4,
   "id": "e24acd00",
   "metadata": {},
   "outputs": [
    {
     "ename": "SyntaxError",
     "evalue": "invalid syntax (288649632.py, line 1)",
     "output_type": "error",
     "traceback": [
      "\u001b[1;36m  Cell \u001b[1;32mIn[4], line 1\u001b[1;36m\u001b[0m\n\u001b[1;33m    f f = 55\u001b[0m\n\u001b[1;37m      ^\u001b[0m\n\u001b[1;31mSyntaxError\u001b[0m\u001b[1;31m:\u001b[0m invalid syntax\n"
     ]
    }
   ],
   "source": [
    "f f = 55"
   ]
  },
  {
   "cell_type": "code",
   "execution_count": 11,
   "id": "5127e354",
   "metadata": {},
   "outputs": [
    {
     "name": "stdout",
     "output_type": "stream",
     "text": [
      "False\n"
     ]
    }
   ],
   "source": [
    "a = isinstance(str,int)\n",
    "print(a)"
   ]
  },
  {
   "cell_type": "code",
   "execution_count": 9,
   "id": "d1543f93",
   "metadata": {},
   "outputs": [
    {
     "name": "stdout",
     "output_type": "stream",
     "text": [
      " \n"
     ]
    },
    {
     "data": {
      "text/plain": [
       "' '"
      ]
     },
     "execution_count": 9,
     "metadata": {},
     "output_type": "execute_result"
    }
   ],
   "source": [
    "input()"
   ]
  },
  {
   "cell_type": "markdown",
   "id": "08871a8a",
   "metadata": {},
   "source": [
    "## Exception Handling\n",
    "\n"
   ]
  },
  {
   "cell_type": "code",
   "execution_count": 7,
   "id": "49d47c7a",
   "metadata": {},
   "outputs": [],
   "source": [
    "def divide_by(a,b):\n",
    "    return a/b"
   ]
  },
  {
   "cell_type": "code",
   "execution_count": 8,
   "id": "cb598348",
   "metadata": {},
   "outputs": [
    {
     "name": "stdout",
     "output_type": "stream",
     "text": [
      "something went wrong! division by zero\n",
      "<class 'ZeroDivisionError'>\n"
     ]
    }
   ],
   "source": [
    "try:\n",
    "    sum = divide_by(40,0)\n",
    "except Exception as e:\n",
    "    print(\"something went wrong!\",e)\n",
    "    print(e.__class__)"
   ]
  },
  {
   "cell_type": "code",
   "execution_count": 9,
   "id": "1cb673bf",
   "metadata": {},
   "outputs": [
    {
     "name": "stdout",
     "output_type": "stream",
     "text": [
      "Sum = 0.8\n"
     ]
    }
   ],
   "source": [
    "try:\n",
    "    sum = divide_by(40,50)\n",
    "    print(\"Sum =\" ,sum)\n",
    "except ZeroDivisionError as e:\n",
    "    print(e,\"Error --->\",\"You can't divide by zero\")\n",
    "except Exception as e:\n",
    "    print(e,\"Error --->\",\"Somthong went Wrong\")"
   ]
  },
  {
   "cell_type": "code",
   "execution_count": null,
   "id": "3cd7b142",
   "metadata": {},
   "outputs": [],
   "source": []
  }
 ],
 "metadata": {
  "kernelspec": {
   "display_name": "Python 3 (ipykernel)",
   "language": "python",
   "name": "python3"
  },
  "language_info": {
   "codemirror_mode": {
    "name": "ipython",
    "version": 3
   },
   "file_extension": ".py",
   "mimetype": "text/x-python",
   "name": "python",
   "nbconvert_exporter": "python",
   "pygments_lexer": "ipython3",
   "version": "3.9.13"
  }
 },
 "nbformat": 4,
 "nbformat_minor": 5
}
